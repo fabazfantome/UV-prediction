{
 "cells": [
  {
   "cell_type": "code",
   "execution_count": 1,
   "metadata": {},
   "outputs": [],
   "source": [
    "import pandas as pd\n",
    "from torch import Tensor\n",
    "from torch.utils.data import DataLoader, random_split\n",
    "from torch.optim import Adam\n",
    "from Model import UVModel, training\n",
    "from Dataset import EUV_DATA\n",
    "from datetime import datetime, timedelta\n",
    "from typing import Tuple\n",
    "import torch\n",
   ]
  },
  {
   "cell_type": "code",
   "execution_count": 2,
   "metadata": {},
   "outputs": [],
   "source": [
    "dates: Tuple[datetime, datetime] = [datetime(2021, 1, 1), datetime(2024, 6, 16)]\n",
    "device = torch.device('cuda:0' if torch.cuda.is_available() else 'cpu')"
    "criterion = Adam\n",
    "optimizer = torch.nn.functional.mse_loss\n",
    "lr = 0.001\n",
    "epochs = 1000\n",
    "dates = (datetime(2021, 1, 1), datetime(2024, 6, 16))\n",
    "dataset = EUV_DATA(dates)"
   ]
  },
  {
   "cell_type": "code",
   "execution_count": 3,
   "metadata": {},
   "outputs": [],
   "source": [
    "model = UVModel().to(torch.float32).to(device)\n",
    "train_len = round(len(dataset)*0.8)\n",
    "val_len = len(dataset) - train_len\n",
    "train, val = random_split(dataset, [train_len, val_len])\n",
    "train_dl = DataLoader(train, 16, shuffle = True)\n",
    "val_dl = DataLoader(val, 16, shuffle = False)"
   ]
  },

